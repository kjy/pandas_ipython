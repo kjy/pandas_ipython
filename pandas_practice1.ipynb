{
 "metadata": {
  "name": "",
  "signature": "sha256:801840f7f59985645891fce7fc7b3fbb96e1b240e0bef9f12d1640f8bff35071"
 },
 "nbformat": 3,
 "nbformat_minor": 0,
 "worksheets": [
  {
   "cells": [
    {
     "cell_type": "heading",
     "level": 3,
     "metadata": {},
     "source": [
      "Panda practice, using Roshan's youtube video \"7. Pandas - IPython Notebook Tutorial\""
     ]
    },
    {
     "cell_type": "code",
     "collapsed": false,
     "input": [
      "import numpy as np\n",
      "import pandas as pd"
     ],
     "language": "python",
     "metadata": {},
     "outputs": [],
     "prompt_number": 3
    },
    {
     "cell_type": "code",
     "collapsed": false,
     "input": [
      "x = pd.Series([1,2,3,4,5])\n",
      "x"
     ],
     "language": "python",
     "metadata": {},
     "outputs": [
      {
       "metadata": {},
       "output_type": "pyout",
       "prompt_number": 4,
       "text": [
        "0    1\n",
        "1    2\n",
        "2    3\n",
        "3    4\n",
        "4    5\n",
        "dtype: int64"
       ]
      }
     ],
     "prompt_number": 4
    },
    {
     "cell_type": "code",
     "collapsed": false,
     "input": [
      "x + 100"
     ],
     "language": "python",
     "metadata": {},
     "outputs": [
      {
       "metadata": {},
       "output_type": "pyout",
       "prompt_number": 5,
       "text": [
        "0    101\n",
        "1    102\n",
        "2    103\n",
        "3    104\n",
        "4    105\n",
        "dtype: int64"
       ]
      }
     ],
     "prompt_number": 5
    },
    {
     "cell_type": "code",
     "collapsed": false,
     "input": [
      "(x**2) + 100"
     ],
     "language": "python",
     "metadata": {},
     "outputs": [
      {
       "metadata": {},
       "output_type": "pyout",
       "prompt_number": 6,
       "text": [
        "0    101\n",
        "1    104\n",
        "2    109\n",
        "3    116\n",
        "4    125\n",
        "dtype: int64"
       ]
      }
     ],
     "prompt_number": 6
    },
    {
     "cell_type": "code",
     "collapsed": false,
     "input": [
      "x > 2"
     ],
     "language": "python",
     "metadata": {},
     "outputs": [
      {
       "metadata": {},
       "output_type": "pyout",
       "prompt_number": 7,
       "text": [
        "0    False\n",
        "1    False\n",
        "2     True\n",
        "3     True\n",
        "4     True\n",
        "dtype: bool"
       ]
      }
     ],
     "prompt_number": 7
    },
    {
     "cell_type": "code",
     "collapsed": false,
     "input": [
      "larger_than_2 = x > 2"
     ],
     "language": "python",
     "metadata": {},
     "outputs": [],
     "prompt_number": 8
    },
    {
     "cell_type": "code",
     "collapsed": false,
     "input": [
      "larger_than_2"
     ],
     "language": "python",
     "metadata": {},
     "outputs": [
      {
       "metadata": {},
       "output_type": "pyout",
       "prompt_number": 11,
       "text": [
        "0    False\n",
        "1    False\n",
        "2     True\n",
        "3     True\n",
        "4     True\n",
        "dtype: bool"
       ]
      }
     ],
     "prompt_number": 11
    },
    {
     "cell_type": "code",
     "collapsed": false,
     "input": [
      "larger_than_2.any()"
     ],
     "language": "python",
     "metadata": {},
     "outputs": [
      {
       "metadata": {},
       "output_type": "pyout",
       "prompt_number": 9,
       "text": [
        "True"
       ]
      }
     ],
     "prompt_number": 9
    },
    {
     "cell_type": "code",
     "collapsed": false,
     "input": [
      "larger_than_2.all()"
     ],
     "language": "python",
     "metadata": {},
     "outputs": [
      {
       "metadata": {},
       "output_type": "pyout",
       "prompt_number": 10,
       "text": [
        "False"
       ]
      }
     ],
     "prompt_number": 10
    },
    {
     "cell_type": "code",
     "collapsed": false,
     "input": [
      "def f(x):\n",
      "    if x%2 == 0:\n",
      "        return x*2\n",
      "    else:\n",
      "        return x*3\n",
      "x.apply(f)  "
     ],
     "language": "python",
     "metadata": {},
     "outputs": [
      {
       "metadata": {},
       "output_type": "pyout",
       "prompt_number": 11,
       "text": [
        "0     3\n",
        "1     4\n",
        "2     9\n",
        "3     8\n",
        "4    15\n",
        "dtype: int64"
       ]
      }
     ],
     "prompt_number": 11
    },
    {
     "cell_type": "code",
     "collapsed": false,
     "input": [
      "%%timeit\n",
      "ds = pd.Series(range(10000))\n",
      "for counter in range(len(ds)):\n",
      "    ds[counter] = f(ds[counter])"
     ],
     "language": "python",
     "metadata": {},
     "outputs": [
      {
       "output_type": "stream",
       "stream": "stdout",
       "text": [
        "1 loops, best of 3: 193 ms per loop\n"
       ]
      }
     ],
     "prompt_number": 12
    },
    {
     "cell_type": "code",
     "collapsed": false,
     "input": [
      "%%timeit\n",
      "ds = pd.Series(range(10000))\n",
      "ds = ds.apply(f)\n",
      "x.astype(np.float64)"
     ],
     "language": "python",
     "metadata": {},
     "outputs": [
      {
       "output_type": "stream",
       "stream": "stdout",
       "text": [
        "10 loops, best of 3: 37 ms per loop\n"
       ]
      }
     ],
     "prompt_number": 13
    },
    {
     "cell_type": "code",
     "collapsed": false,
     "input": [
      "# Does not make a copy\n",
      "y = x\n",
      "y[0]"
     ],
     "language": "python",
     "metadata": {},
     "outputs": [
      {
       "metadata": {},
       "output_type": "pyout",
       "prompt_number": 14,
       "text": [
        "1"
       ]
      }
     ],
     "prompt_number": 14
    },
    {
     "cell_type": "code",
     "collapsed": false,
     "input": [
      "y[0]=100\n"
     ],
     "language": "python",
     "metadata": {},
     "outputs": [],
     "prompt_number": 15
    },
    {
     "cell_type": "code",
     "collapsed": false,
     "input": [
      "y"
     ],
     "language": "python",
     "metadata": {},
     "outputs": [
      {
       "metadata": {},
       "output_type": "pyout",
       "prompt_number": 16,
       "text": [
        "0    100\n",
        "1      2\n",
        "2      3\n",
        "3      4\n",
        "4      5\n",
        "dtype: int64"
       ]
      }
     ],
     "prompt_number": 16
    },
    {
     "cell_type": "code",
     "collapsed": false,
     "input": [
      "x"
     ],
     "language": "python",
     "metadata": {},
     "outputs": [
      {
       "metadata": {},
       "output_type": "pyout",
       "prompt_number": 17,
       "text": [
        "0    100\n",
        "1      2\n",
        "2      3\n",
        "3      4\n",
        "4      5\n",
        "dtype: int64"
       ]
      }
     ],
     "prompt_number": 17
    },
    {
     "cell_type": "code",
     "collapsed": false,
     "input": [
      "# Makes a copy\n",
      "y = x.copy()\n",
      "x[0]=1"
     ],
     "language": "python",
     "metadata": {},
     "outputs": [],
     "prompt_number": 18
    },
    {
     "cell_type": "code",
     "collapsed": false,
     "input": [
      "x"
     ],
     "language": "python",
     "metadata": {},
     "outputs": [
      {
       "metadata": {},
       "output_type": "pyout",
       "prompt_number": 19,
       "text": [
        "0    1\n",
        "1    2\n",
        "2    3\n",
        "3    4\n",
        "4    5\n",
        "dtype: int64"
       ]
      }
     ],
     "prompt_number": 19
    },
    {
     "cell_type": "code",
     "collapsed": false,
     "input": [
      "y"
     ],
     "language": "python",
     "metadata": {},
     "outputs": [
      {
       "metadata": {},
       "output_type": "pyout",
       "prompt_number": 20,
       "text": [
        "0    100\n",
        "1      2\n",
        "2      3\n",
        "3      4\n",
        "4      5\n",
        "dtype: int64"
       ]
      }
     ],
     "prompt_number": 20
    },
    {
     "cell_type": "code",
     "collapsed": false,
     "input": [
      "x.describe(percentile_width = 50)  # Can put in value of 20 or 80"
     ],
     "language": "python",
     "metadata": {},
     "outputs": [
      {
       "metadata": {},
       "output_type": "pyout",
       "prompt_number": 22,
       "text": [
        "count    5.000000\n",
        "mean     3.000000\n",
        "std      1.581139\n",
        "min      1.000000\n",
        "25%      2.000000\n",
        "50%      3.000000\n",
        "75%      4.000000\n",
        "max      5.000000\n",
        "dtype: float64"
       ]
      }
     ],
     "prompt_number": 22
    },
    {
     "cell_type": "code",
     "collapsed": false,
     "input": [
      "data = [1,2,3,4,5,6,7,8,9]"
     ],
     "language": "python",
     "metadata": {},
     "outputs": [],
     "prompt_number": 23
    },
    {
     "cell_type": "code",
     "collapsed": false,
     "input": [
      "df = pd.DataFrame(data,columns=[\"x\"])\n",
      "df"
     ],
     "language": "python",
     "metadata": {},
     "outputs": [
      {
       "html": [
        "<div style=\"max-height:1000px;max-width:1500px;overflow:auto;\">\n",
        "<table border=\"1\" class=\"dataframe\">\n",
        "  <thead>\n",
        "    <tr style=\"text-align: right;\">\n",
        "      <th></th>\n",
        "      <th>x</th>\n",
        "    </tr>\n",
        "  </thead>\n",
        "  <tbody>\n",
        "    <tr>\n",
        "      <th>0</th>\n",
        "      <td> 1</td>\n",
        "    </tr>\n",
        "    <tr>\n",
        "      <th>1</th>\n",
        "      <td> 2</td>\n",
        "    </tr>\n",
        "    <tr>\n",
        "      <th>2</th>\n",
        "      <td> 3</td>\n",
        "    </tr>\n",
        "    <tr>\n",
        "      <th>3</th>\n",
        "      <td> 4</td>\n",
        "    </tr>\n",
        "    <tr>\n",
        "      <th>4</th>\n",
        "      <td> 5</td>\n",
        "    </tr>\n",
        "    <tr>\n",
        "      <th>5</th>\n",
        "      <td> 6</td>\n",
        "    </tr>\n",
        "    <tr>\n",
        "      <th>6</th>\n",
        "      <td> 7</td>\n",
        "    </tr>\n",
        "    <tr>\n",
        "      <th>7</th>\n",
        "      <td> 8</td>\n",
        "    </tr>\n",
        "    <tr>\n",
        "      <th>8</th>\n",
        "      <td> 9</td>\n",
        "    </tr>\n",
        "  </tbody>\n",
        "</table>\n",
        "</div>"
       ],
       "metadata": {},
       "output_type": "pyout",
       "prompt_number": 24,
       "text": [
        "   x\n",
        "0  1\n",
        "1  2\n",
        "2  3\n",
        "3  4\n",
        "4  5\n",
        "5  6\n",
        "6  7\n",
        "7  8\n",
        "8  9"
       ]
      }
     ],
     "prompt_number": 24
    },
    {
     "cell_type": "code",
     "collapsed": false,
     "input": [
      "df[\"x\"]"
     ],
     "language": "python",
     "metadata": {},
     "outputs": [
      {
       "metadata": {},
       "output_type": "pyout",
       "prompt_number": 25,
       "text": [
        "0    1\n",
        "1    2\n",
        "2    3\n",
        "3    4\n",
        "4    5\n",
        "5    6\n",
        "6    7\n",
        "7    8\n",
        "8    9\n",
        "Name: x, dtype: int64"
       ]
      }
     ],
     "prompt_number": 25
    },
    {
     "cell_type": "code",
     "collapsed": false,
     "input": [
      "df[\"x\"][0]"
     ],
     "language": "python",
     "metadata": {},
     "outputs": [
      {
       "metadata": {},
       "output_type": "pyout",
       "prompt_number": 26,
       "text": [
        "1"
       ]
      }
     ],
     "prompt_number": 26
    },
    {
     "cell_type": "code",
     "collapsed": false,
     "input": [
      "# Add an extra column\n",
      "df[\"x_plus_2\"] = df[\"x\"] + 2\n",
      "df"
     ],
     "language": "python",
     "metadata": {},
     "outputs": [
      {
       "html": [
        "<div style=\"max-height:1000px;max-width:1500px;overflow:auto;\">\n",
        "<table border=\"1\" class=\"dataframe\">\n",
        "  <thead>\n",
        "    <tr style=\"text-align: right;\">\n",
        "      <th></th>\n",
        "      <th>x</th>\n",
        "      <th>x_plus_2</th>\n",
        "    </tr>\n",
        "  </thead>\n",
        "  <tbody>\n",
        "    <tr>\n",
        "      <th>0</th>\n",
        "      <td> 1</td>\n",
        "      <td>  3</td>\n",
        "    </tr>\n",
        "    <tr>\n",
        "      <th>1</th>\n",
        "      <td> 2</td>\n",
        "      <td>  4</td>\n",
        "    </tr>\n",
        "    <tr>\n",
        "      <th>2</th>\n",
        "      <td> 3</td>\n",
        "      <td>  5</td>\n",
        "    </tr>\n",
        "    <tr>\n",
        "      <th>3</th>\n",
        "      <td> 4</td>\n",
        "      <td>  6</td>\n",
        "    </tr>\n",
        "    <tr>\n",
        "      <th>4</th>\n",
        "      <td> 5</td>\n",
        "      <td>  7</td>\n",
        "    </tr>\n",
        "    <tr>\n",
        "      <th>5</th>\n",
        "      <td> 6</td>\n",
        "      <td>  8</td>\n",
        "    </tr>\n",
        "    <tr>\n",
        "      <th>6</th>\n",
        "      <td> 7</td>\n",
        "      <td>  9</td>\n",
        "    </tr>\n",
        "    <tr>\n",
        "      <th>7</th>\n",
        "      <td> 8</td>\n",
        "      <td> 10</td>\n",
        "    </tr>\n",
        "    <tr>\n",
        "      <th>8</th>\n",
        "      <td> 9</td>\n",
        "      <td> 11</td>\n",
        "    </tr>\n",
        "  </tbody>\n",
        "</table>\n",
        "</div>"
       ],
       "metadata": {},
       "output_type": "pyout",
       "prompt_number": 27,
       "text": [
        "   x  x_plus_2\n",
        "0  1         3\n",
        "1  2         4\n",
        "2  3         5\n",
        "3  4         6\n",
        "4  5         7\n",
        "5  6         8\n",
        "6  7         9\n",
        "7  8        10\n",
        "8  9        11"
       ]
      }
     ],
     "prompt_number": 27
    },
    {
     "cell_type": "code",
     "collapsed": false,
     "input": [
      "df[\"x_square\"] = df[\"x\"]**2\n",
      "df[\"x_factorial\"] = df[\"x\"].apply(np.math.factorial)\n",
      "df"
     ],
     "language": "python",
     "metadata": {},
     "outputs": [
      {
       "html": [
        "<div style=\"max-height:1000px;max-width:1500px;overflow:auto;\">\n",
        "<table border=\"1\" class=\"dataframe\">\n",
        "  <thead>\n",
        "    <tr style=\"text-align: right;\">\n",
        "      <th></th>\n",
        "      <th>x</th>\n",
        "      <th>x_plus_2</th>\n",
        "      <th>x_square</th>\n",
        "      <th>x_factorial</th>\n",
        "    </tr>\n",
        "  </thead>\n",
        "  <tbody>\n",
        "    <tr>\n",
        "      <th>0</th>\n",
        "      <td> 1</td>\n",
        "      <td>  3</td>\n",
        "      <td>  1</td>\n",
        "      <td>      1</td>\n",
        "    </tr>\n",
        "    <tr>\n",
        "      <th>1</th>\n",
        "      <td> 2</td>\n",
        "      <td>  4</td>\n",
        "      <td>  4</td>\n",
        "      <td>      2</td>\n",
        "    </tr>\n",
        "    <tr>\n",
        "      <th>2</th>\n",
        "      <td> 3</td>\n",
        "      <td>  5</td>\n",
        "      <td>  9</td>\n",
        "      <td>      6</td>\n",
        "    </tr>\n",
        "    <tr>\n",
        "      <th>3</th>\n",
        "      <td> 4</td>\n",
        "      <td>  6</td>\n",
        "      <td> 16</td>\n",
        "      <td>     24</td>\n",
        "    </tr>\n",
        "    <tr>\n",
        "      <th>4</th>\n",
        "      <td> 5</td>\n",
        "      <td>  7</td>\n",
        "      <td> 25</td>\n",
        "      <td>    120</td>\n",
        "    </tr>\n",
        "    <tr>\n",
        "      <th>5</th>\n",
        "      <td> 6</td>\n",
        "      <td>  8</td>\n",
        "      <td> 36</td>\n",
        "      <td>    720</td>\n",
        "    </tr>\n",
        "    <tr>\n",
        "      <th>6</th>\n",
        "      <td> 7</td>\n",
        "      <td>  9</td>\n",
        "      <td> 49</td>\n",
        "      <td>   5040</td>\n",
        "    </tr>\n",
        "    <tr>\n",
        "      <th>7</th>\n",
        "      <td> 8</td>\n",
        "      <td> 10</td>\n",
        "      <td> 64</td>\n",
        "      <td>  40320</td>\n",
        "    </tr>\n",
        "    <tr>\n",
        "      <th>8</th>\n",
        "      <td> 9</td>\n",
        "      <td> 11</td>\n",
        "      <td> 81</td>\n",
        "      <td> 362880</td>\n",
        "    </tr>\n",
        "  </tbody>\n",
        "</table>\n",
        "</div>"
       ],
       "metadata": {},
       "output_type": "pyout",
       "prompt_number": 28,
       "text": [
        "   x  x_plus_2  x_square  x_factorial\n",
        "0  1         3         1            1\n",
        "1  2         4         4            2\n",
        "2  3         5         9            6\n",
        "3  4         6        16           24\n",
        "4  5         7        25          120\n",
        "5  6         8        36          720\n",
        "6  7         9        49         5040\n",
        "7  8        10        64        40320\n",
        "8  9        11        81       362880"
       ]
      }
     ],
     "prompt_number": 28
    },
    {
     "cell_type": "code",
     "collapsed": false,
     "input": [
      "df[\"is_even\"] = df[\"x\"]%2 == 0\n",
      "df"
     ],
     "language": "python",
     "metadata": {},
     "outputs": [
      {
       "html": [
        "<div style=\"max-height:1000px;max-width:1500px;overflow:auto;\">\n",
        "<table border=\"1\" class=\"dataframe\">\n",
        "  <thead>\n",
        "    <tr style=\"text-align: right;\">\n",
        "      <th></th>\n",
        "      <th>x</th>\n",
        "      <th>x_plus_2</th>\n",
        "      <th>x_square</th>\n",
        "      <th>x_factorial</th>\n",
        "      <th>is_even</th>\n",
        "    </tr>\n",
        "  </thead>\n",
        "  <tbody>\n",
        "    <tr>\n",
        "      <th>0</th>\n",
        "      <td> 1</td>\n",
        "      <td>  3</td>\n",
        "      <td>  1</td>\n",
        "      <td>      1</td>\n",
        "      <td> False</td>\n",
        "    </tr>\n",
        "    <tr>\n",
        "      <th>1</th>\n",
        "      <td> 2</td>\n",
        "      <td>  4</td>\n",
        "      <td>  4</td>\n",
        "      <td>      2</td>\n",
        "      <td>  True</td>\n",
        "    </tr>\n",
        "    <tr>\n",
        "      <th>2</th>\n",
        "      <td> 3</td>\n",
        "      <td>  5</td>\n",
        "      <td>  9</td>\n",
        "      <td>      6</td>\n",
        "      <td> False</td>\n",
        "    </tr>\n",
        "    <tr>\n",
        "      <th>3</th>\n",
        "      <td> 4</td>\n",
        "      <td>  6</td>\n",
        "      <td> 16</td>\n",
        "      <td>     24</td>\n",
        "      <td>  True</td>\n",
        "    </tr>\n",
        "    <tr>\n",
        "      <th>4</th>\n",
        "      <td> 5</td>\n",
        "      <td>  7</td>\n",
        "      <td> 25</td>\n",
        "      <td>    120</td>\n",
        "      <td> False</td>\n",
        "    </tr>\n",
        "    <tr>\n",
        "      <th>5</th>\n",
        "      <td> 6</td>\n",
        "      <td>  8</td>\n",
        "      <td> 36</td>\n",
        "      <td>    720</td>\n",
        "      <td>  True</td>\n",
        "    </tr>\n",
        "    <tr>\n",
        "      <th>6</th>\n",
        "      <td> 7</td>\n",
        "      <td>  9</td>\n",
        "      <td> 49</td>\n",
        "      <td>   5040</td>\n",
        "      <td> False</td>\n",
        "    </tr>\n",
        "    <tr>\n",
        "      <th>7</th>\n",
        "      <td> 8</td>\n",
        "      <td> 10</td>\n",
        "      <td> 64</td>\n",
        "      <td>  40320</td>\n",
        "      <td>  True</td>\n",
        "    </tr>\n",
        "    <tr>\n",
        "      <th>8</th>\n",
        "      <td> 9</td>\n",
        "      <td> 11</td>\n",
        "      <td> 81</td>\n",
        "      <td> 362880</td>\n",
        "      <td> False</td>\n",
        "    </tr>\n",
        "  </tbody>\n",
        "</table>\n",
        "</div>"
       ],
       "metadata": {},
       "output_type": "pyout",
       "prompt_number": 29,
       "text": [
        "   x  x_plus_2  x_square  x_factorial is_even\n",
        "0  1         3         1            1   False\n",
        "1  2         4         4            2    True\n",
        "2  3         5         9            6   False\n",
        "3  4         6        16           24    True\n",
        "4  5         7        25          120   False\n",
        "5  6         8        36          720    True\n",
        "6  7         9        49         5040   False\n",
        "7  8        10        64        40320    True\n",
        "8  9        11        81       362880   False"
       ]
      }
     ],
     "prompt_number": 29
    },
    {
     "cell_type": "code",
     "collapsed": false,
     "input": [
      "df[\"odd_even\"] = df[\"is_even\"].map({False: \"odd\", True: \"even\"})\n",
      "df"
     ],
     "language": "python",
     "metadata": {},
     "outputs": [
      {
       "html": [
        "<div style=\"max-height:1000px;max-width:1500px;overflow:auto;\">\n",
        "<table border=\"1\" class=\"dataframe\">\n",
        "  <thead>\n",
        "    <tr style=\"text-align: right;\">\n",
        "      <th></th>\n",
        "      <th>x</th>\n",
        "      <th>x_plus_2</th>\n",
        "      <th>x_square</th>\n",
        "      <th>x_factorial</th>\n",
        "      <th>is_even</th>\n",
        "      <th>odd_even</th>\n",
        "    </tr>\n",
        "  </thead>\n",
        "  <tbody>\n",
        "    <tr>\n",
        "      <th>0</th>\n",
        "      <td> 1</td>\n",
        "      <td>  3</td>\n",
        "      <td>  1</td>\n",
        "      <td>      1</td>\n",
        "      <td> False</td>\n",
        "      <td>  odd</td>\n",
        "    </tr>\n",
        "    <tr>\n",
        "      <th>1</th>\n",
        "      <td> 2</td>\n",
        "      <td>  4</td>\n",
        "      <td>  4</td>\n",
        "      <td>      2</td>\n",
        "      <td>  True</td>\n",
        "      <td> even</td>\n",
        "    </tr>\n",
        "    <tr>\n",
        "      <th>2</th>\n",
        "      <td> 3</td>\n",
        "      <td>  5</td>\n",
        "      <td>  9</td>\n",
        "      <td>      6</td>\n",
        "      <td> False</td>\n",
        "      <td>  odd</td>\n",
        "    </tr>\n",
        "    <tr>\n",
        "      <th>3</th>\n",
        "      <td> 4</td>\n",
        "      <td>  6</td>\n",
        "      <td> 16</td>\n",
        "      <td>     24</td>\n",
        "      <td>  True</td>\n",
        "      <td> even</td>\n",
        "    </tr>\n",
        "    <tr>\n",
        "      <th>4</th>\n",
        "      <td> 5</td>\n",
        "      <td>  7</td>\n",
        "      <td> 25</td>\n",
        "      <td>    120</td>\n",
        "      <td> False</td>\n",
        "      <td>  odd</td>\n",
        "    </tr>\n",
        "    <tr>\n",
        "      <th>5</th>\n",
        "      <td> 6</td>\n",
        "      <td>  8</td>\n",
        "      <td> 36</td>\n",
        "      <td>    720</td>\n",
        "      <td>  True</td>\n",
        "      <td> even</td>\n",
        "    </tr>\n",
        "    <tr>\n",
        "      <th>6</th>\n",
        "      <td> 7</td>\n",
        "      <td>  9</td>\n",
        "      <td> 49</td>\n",
        "      <td>   5040</td>\n",
        "      <td> False</td>\n",
        "      <td>  odd</td>\n",
        "    </tr>\n",
        "    <tr>\n",
        "      <th>7</th>\n",
        "      <td> 8</td>\n",
        "      <td> 10</td>\n",
        "      <td> 64</td>\n",
        "      <td>  40320</td>\n",
        "      <td>  True</td>\n",
        "      <td> even</td>\n",
        "    </tr>\n",
        "    <tr>\n",
        "      <th>8</th>\n",
        "      <td> 9</td>\n",
        "      <td> 11</td>\n",
        "      <td> 81</td>\n",
        "      <td> 362880</td>\n",
        "      <td> False</td>\n",
        "      <td>  odd</td>\n",
        "    </tr>\n",
        "  </tbody>\n",
        "</table>\n",
        "</div>"
       ],
       "metadata": {},
       "output_type": "pyout",
       "prompt_number": 30,
       "text": [
        "   x  x_plus_2  x_square  x_factorial is_even odd_even\n",
        "0  1         3         1            1   False      odd\n",
        "1  2         4         4            2    True     even\n",
        "2  3         5         9            6   False      odd\n",
        "3  4         6        16           24    True     even\n",
        "4  5         7        25          120   False      odd\n",
        "5  6         8        36          720    True     even\n",
        "6  7         9        49         5040   False      odd\n",
        "7  8        10        64        40320    True     even\n",
        "8  9        11        81       362880   False      odd"
       ]
      }
     ],
     "prompt_number": 30
    },
    {
     "cell_type": "code",
     "collapsed": false,
     "input": [
      "df = df.drop(\"is_even\", 1)  # 1 is column\n",
      "df"
     ],
     "language": "python",
     "metadata": {},
     "outputs": [
      {
       "html": [
        "<div style=\"max-height:1000px;max-width:1500px;overflow:auto;\">\n",
        "<table border=\"1\" class=\"dataframe\">\n",
        "  <thead>\n",
        "    <tr style=\"text-align: right;\">\n",
        "      <th></th>\n",
        "      <th>x</th>\n",
        "      <th>x_plus_2</th>\n",
        "      <th>x_square</th>\n",
        "      <th>x_factorial</th>\n",
        "      <th>odd_even</th>\n",
        "    </tr>\n",
        "  </thead>\n",
        "  <tbody>\n",
        "    <tr>\n",
        "      <th>0</th>\n",
        "      <td> 1</td>\n",
        "      <td>  3</td>\n",
        "      <td>  1</td>\n",
        "      <td>      1</td>\n",
        "      <td>  odd</td>\n",
        "    </tr>\n",
        "    <tr>\n",
        "      <th>1</th>\n",
        "      <td> 2</td>\n",
        "      <td>  4</td>\n",
        "      <td>  4</td>\n",
        "      <td>      2</td>\n",
        "      <td> even</td>\n",
        "    </tr>\n",
        "    <tr>\n",
        "      <th>2</th>\n",
        "      <td> 3</td>\n",
        "      <td>  5</td>\n",
        "      <td>  9</td>\n",
        "      <td>      6</td>\n",
        "      <td>  odd</td>\n",
        "    </tr>\n",
        "    <tr>\n",
        "      <th>3</th>\n",
        "      <td> 4</td>\n",
        "      <td>  6</td>\n",
        "      <td> 16</td>\n",
        "      <td>     24</td>\n",
        "      <td> even</td>\n",
        "    </tr>\n",
        "    <tr>\n",
        "      <th>4</th>\n",
        "      <td> 5</td>\n",
        "      <td>  7</td>\n",
        "      <td> 25</td>\n",
        "      <td>    120</td>\n",
        "      <td>  odd</td>\n",
        "    </tr>\n",
        "    <tr>\n",
        "      <th>5</th>\n",
        "      <td> 6</td>\n",
        "      <td>  8</td>\n",
        "      <td> 36</td>\n",
        "      <td>    720</td>\n",
        "      <td> even</td>\n",
        "    </tr>\n",
        "    <tr>\n",
        "      <th>6</th>\n",
        "      <td> 7</td>\n",
        "      <td>  9</td>\n",
        "      <td> 49</td>\n",
        "      <td>   5040</td>\n",
        "      <td>  odd</td>\n",
        "    </tr>\n",
        "    <tr>\n",
        "      <th>7</th>\n",
        "      <td> 8</td>\n",
        "      <td> 10</td>\n",
        "      <td> 64</td>\n",
        "      <td>  40320</td>\n",
        "      <td> even</td>\n",
        "    </tr>\n",
        "    <tr>\n",
        "      <th>8</th>\n",
        "      <td> 9</td>\n",
        "      <td> 11</td>\n",
        "      <td> 81</td>\n",
        "      <td> 362880</td>\n",
        "      <td>  odd</td>\n",
        "    </tr>\n",
        "  </tbody>\n",
        "</table>\n",
        "</div>"
       ],
       "metadata": {},
       "output_type": "pyout",
       "prompt_number": 31,
       "text": [
        "   x  x_plus_2  x_square  x_factorial odd_even\n",
        "0  1         3         1            1      odd\n",
        "1  2         4         4            2     even\n",
        "2  3         5         9            6      odd\n",
        "3  4         6        16           24     even\n",
        "4  5         7        25          120      odd\n",
        "5  6         8        36          720     even\n",
        "6  7         9        49         5040      odd\n",
        "7  8        10        64        40320     even\n",
        "8  9        11        81       362880      odd"
       ]
      }
     ],
     "prompt_number": 31
    },
    {
     "cell_type": "code",
     "collapsed": false,
     "input": [
      "df[[\"x\", \"odd_even\"]]"
     ],
     "language": "python",
     "metadata": {},
     "outputs": [
      {
       "html": [
        "<div style=\"max-height:1000px;max-width:1500px;overflow:auto;\">\n",
        "<table border=\"1\" class=\"dataframe\">\n",
        "  <thead>\n",
        "    <tr style=\"text-align: right;\">\n",
        "      <th></th>\n",
        "      <th>x</th>\n",
        "      <th>odd_even</th>\n",
        "    </tr>\n",
        "  </thead>\n",
        "  <tbody>\n",
        "    <tr>\n",
        "      <th>0</th>\n",
        "      <td> 1</td>\n",
        "      <td>  odd</td>\n",
        "    </tr>\n",
        "    <tr>\n",
        "      <th>1</th>\n",
        "      <td> 2</td>\n",
        "      <td> even</td>\n",
        "    </tr>\n",
        "    <tr>\n",
        "      <th>2</th>\n",
        "      <td> 3</td>\n",
        "      <td>  odd</td>\n",
        "    </tr>\n",
        "    <tr>\n",
        "      <th>3</th>\n",
        "      <td> 4</td>\n",
        "      <td> even</td>\n",
        "    </tr>\n",
        "    <tr>\n",
        "      <th>4</th>\n",
        "      <td> 5</td>\n",
        "      <td>  odd</td>\n",
        "    </tr>\n",
        "    <tr>\n",
        "      <th>5</th>\n",
        "      <td> 6</td>\n",
        "      <td> even</td>\n",
        "    </tr>\n",
        "    <tr>\n",
        "      <th>6</th>\n",
        "      <td> 7</td>\n",
        "      <td>  odd</td>\n",
        "    </tr>\n",
        "    <tr>\n",
        "      <th>7</th>\n",
        "      <td> 8</td>\n",
        "      <td> even</td>\n",
        "    </tr>\n",
        "    <tr>\n",
        "      <th>8</th>\n",
        "      <td> 9</td>\n",
        "      <td>  odd</td>\n",
        "    </tr>\n",
        "  </tbody>\n",
        "</table>\n",
        "</div>"
       ],
       "metadata": {},
       "output_type": "pyout",
       "prompt_number": 32,
       "text": [
        "   x odd_even\n",
        "0  1      odd\n",
        "1  2     even\n",
        "2  3      odd\n",
        "3  4     even\n",
        "4  5      odd\n",
        "5  6     even\n",
        "6  7      odd\n",
        "7  8     even\n",
        "8  9      odd"
       ]
      }
     ],
     "prompt_number": 32
    },
    {
     "cell_type": "code",
     "collapsed": false,
     "input": [
      "pd.options.display.max_columns = 60\n",
      "pd.options.display.max_rows = 25\n",
      "pd.options.display.notebook_repr_html = False\n",
      "df"
     ],
     "language": "python",
     "metadata": {},
     "outputs": [
      {
       "metadata": {},
       "output_type": "pyout",
       "prompt_number": 33,
       "text": [
        "   x  x_plus_2  x_square  x_factorial odd_even\n",
        "0  1         3         1            1      odd\n",
        "1  2         4         4            2     even\n",
        "2  3         5         9            6      odd\n",
        "3  4         6        16           24     even\n",
        "4  5         7        25          120      odd\n",
        "5  6         8        36          720     even\n",
        "6  7         9        49         5040      odd\n",
        "7  8        10        64        40320     even\n",
        "8  9        11        81       362880      odd"
       ]
      }
     ],
     "prompt_number": 33
    },
    {
     "cell_type": "code",
     "collapsed": false,
     "input": [
      "df[df[\"odd_even\"] == \"odd\"]\n"
     ],
     "language": "python",
     "metadata": {},
     "outputs": [
      {
       "metadata": {},
       "output_type": "pyout",
       "prompt_number": 34,
       "text": [
        "   x  x_plus_2  x_square  x_factorial odd_even\n",
        "0  1         3         1            1      odd\n",
        "2  3         5         9            6      odd\n",
        "4  5         7        25          120      odd\n",
        "6  7         9        49         5040      odd\n",
        "8  9        11        81       362880      odd"
       ]
      }
     ],
     "prompt_number": 34
    },
    {
     "cell_type": "code",
     "collapsed": false,
     "input": [
      "df[df.odd_even == \"even\"]"
     ],
     "language": "python",
     "metadata": {},
     "outputs": [
      {
       "metadata": {},
       "output_type": "pyout",
       "prompt_number": 35,
       "text": [
        "   x  x_plus_2  x_square  x_factorial odd_even\n",
        "1  2         4         4            2     even\n",
        "3  4         6        16           24     even\n",
        "5  6         8        36          720     even\n",
        "7  8        10        64        40320     even"
       ]
      }
     ],
     "prompt_number": 35
    },
    {
     "cell_type": "code",
     "collapsed": false,
     "input": [
      "df[df.odd_even == \"odd\"]"
     ],
     "language": "python",
     "metadata": {},
     "outputs": [
      {
       "metadata": {},
       "output_type": "pyout",
       "prompt_number": 36,
       "text": [
        "   x  x_plus_2  x_square  x_factorial odd_even\n",
        "0  1         3         1            1      odd\n",
        "2  3         5         9            6      odd\n",
        "4  5         7        25          120      odd\n",
        "6  7         9        49         5040      odd\n",
        "8  9        11        81       362880      odd"
       ]
      }
     ],
     "prompt_number": 36
    },
    {
     "cell_type": "code",
     "collapsed": false,
     "input": [
      "df[(df.odd_even == \"even\")  |  (df.x_square < 20)]"
     ],
     "language": "python",
     "metadata": {},
     "outputs": [
      {
       "metadata": {},
       "output_type": "pyout",
       "prompt_number": 37,
       "text": [
        "   x  x_plus_2  x_square  x_factorial odd_even\n",
        "0  1         3         1            1      odd\n",
        "1  2         4         4            2     even\n",
        "2  3         5         9            6      odd\n",
        "3  4         6        16           24     even\n",
        "5  6         8        36          720     even\n",
        "7  8        10        64        40320     even"
       ]
      }
     ],
     "prompt_number": 37
    },
    {
     "cell_type": "code",
     "collapsed": false,
     "input": [
      "df[(df.odd_even == \"even\")  &  (df.x_square < 20)]"
     ],
     "language": "python",
     "metadata": {},
     "outputs": [
      {
       "metadata": {},
       "output_type": "pyout",
       "prompt_number": 38,
       "text": [
        "   x  x_plus_2  x_square  x_factorial odd_even\n",
        "1  2         4         4            2     even\n",
        "3  4         6        16           24     even"
       ]
      }
     ],
     "prompt_number": 38
    },
    {
     "cell_type": "code",
     "collapsed": false,
     "input": [
      "df [(df.odd_even == \"even\")  &  (df.x_square < 20)][\"x_plus_2\"][:1]"
     ],
     "language": "python",
     "metadata": {},
     "outputs": [
      {
       "metadata": {},
       "output_type": "pyout",
       "prompt_number": 39,
       "text": [
        "1    4\n",
        "Name: x_plus_2, dtype: int64"
       ]
      }
     ],
     "prompt_number": 39
    },
    {
     "cell_type": "code",
     "collapsed": false,
     "input": [
      "%matplotlib inline\n",
      "pd.scatter_matrix(df, diagonal = \"kde\", figsize = (10,10)) "
     ],
     "language": "python",
     "metadata": {},
     "outputs": [
      {
       "metadata": {},
       "output_type": "pyout",
       "prompt_number": 45,
       "text": [
        "array([[<matplotlib.axes.AxesSubplot object at 0x11093f610>,\n",
        "        <matplotlib.axes.AxesSubplot object at 0x10f9d7810>,\n",
        "        <matplotlib.axes.AxesSubplot object at 0x10fa56bd0>,\n",
        "        <matplotlib.axes.AxesSubplot object at 0x10fab8cd0>],\n",
        "       [<matplotlib.axes.AxesSubplot object at 0x10fb38a90>,\n",
        "        <matplotlib.axes.AxesSubplot object at 0x10fb9c790>,\n",
        "        <matplotlib.axes.AxesSubplot object at 0x110264650>,\n",
        "        <matplotlib.axes.AxesSubplot object at 0x11029d6d0>],\n",
        "       [<matplotlib.axes.AxesSubplot object at 0x1103541d0>,\n",
        "        <matplotlib.axes.AxesSubplot object at 0x112c91f50>,\n",
        "        <matplotlib.axes.AxesSubplot object at 0x112e37290>,\n",
        "        <matplotlib.axes.AxesSubplot object at 0x112ec2150>],\n",
        "       [<matplotlib.axes.AxesSubplot object at 0x11380dc50>,\n",
        "        <matplotlib.axes.AxesSubplot object at 0x113898f10>,\n",
        "        <matplotlib.axes.AxesSubplot object at 0x1138df0d0>,\n",
        "        <matplotlib.axes.AxesSubplot object at 0x113988910>]], dtype=object)"
       ]
      },
      {
       "metadata": {},
       "output_type": "display_data",
       "png": "[encoded data removed]",
       "text": [
        "<matplotlib.figure.Figure at 0x11182c750>"
       ]
      }
     ],
     "prompt_number": 45
    },
    {
     "cell_type": "code",
     "collapsed": false,
     "input": [
      "df.describe()"
     ],
     "language": "python",
     "metadata": {},
     "outputs": [
      {
       "metadata": {},
       "output_type": "pyout",
       "prompt_number": 43,
       "text": [
        "              x   x_plus_2   x_square    x_factorial\n",
        "count  9.000000   9.000000   9.000000       9.000000\n",
        "mean   5.000000   7.000000  31.666667   45457.000000\n",
        "std    2.738613   2.738613  28.080242  119758.341137\n",
        "min    1.000000   3.000000   1.000000       1.000000\n",
        "25%    3.000000   5.000000   9.000000       6.000000\n",
        "50%    5.000000   7.000000  25.000000     120.000000\n",
        "75%    7.000000   9.000000  49.000000    5040.000000\n",
        "max    9.000000  11.000000  81.000000  362880.000000"
       ]
      }
     ],
     "prompt_number": 43
    },
    {
     "cell_type": "code",
     "collapsed": false,
     "input": [
      "url = \"http://www.google.com/finance/historical?q=TADAWUL:TASI&output=csv\"\n",
      "stocks_data = pd.read_csv(url)\n",
      "stocks_data"
     ],
     "language": "python",
     "metadata": {},
     "outputs": [
      {
       "metadata": {},
       "output_type": "pyout",
       "prompt_number": 54,
       "text": [
        "         \ufeffDate      Open      High       Low     Close     Volume\n",
        "0    30-Oct-14  10081.96  10081.96   9925.37  10034.92  186497187\n",
        "1    29-Oct-14  10163.66  10216.57  10076.05  10081.96  213220741\n",
        "2    28-Oct-14  10194.42  10216.24  10119.59  10163.66  202667668\n",
        "3    27-Oct-14  10313.96  10358.89  10194.28  10194.42  210253538\n",
        "4    26-Oct-14  10165.33  10313.96  10130.29  10313.96  229551618\n",
        "5    23-Oct-14  10206.19  10206.19  10041.15  10165.33  215297268\n",
        "6    22-Oct-14  10136.46  10267.50  10104.22  10206.19  279105759\n",
        "7    21-Oct-14   9882.36  10147.21   9882.36  10136.46  283702399\n",
        "8    20-Oct-14   9775.32   9887.18   9758.33   9882.36  241072383\n",
        "9    19-Oct-14   9547.54   9942.61   9547.54   9775.32  252404092\n",
        "10   16-Oct-14   9903.00   9903.00   9340.62   9547.54  311180384\n",
        "11   15-Oct-14  10177.11  10177.11   9893.41   9903.00  221370166\n",
        "..         ...       ...       ...       ...       ...        ...\n",
        "235  18-Nov-13   8383.77   8425.49   8374.69   8407.88  181627921\n",
        "236  17-Nov-13   8317.16   8411.29   8314.25   8383.77  191781010\n",
        "237  14-Nov-13   8297.79   8319.34   8288.98   8317.16  156160943\n",
        "238  13-Nov-13   8329.48   8351.14   8284.43   8297.79  165991749\n",
        "239  12-Nov-13   8271.14   8350.51   8263.84   8329.48  220327240\n",
        "240  11-Nov-13   8248.16   8274.25   8226.73   8271.14  155452917\n",
        "241  10-Nov-13   8262.79   8275.06   8233.70   8248.16  190048145\n",
        "242   7-Nov-13   8188.46   8262.88   8185.48   8262.79  206800996\n",
        "243   6-Nov-13   8170.73   8192.09   8160.41   8188.46  141147648\n",
        "244   5-Nov-13   8073.97   8171.40   8062.68   8170.73  187029578\n",
        "245   4-Nov-13   8060.16   8077.76   8053.38   8073.97  126971414\n",
        "246   3-Nov-13   8044.47   8098.81   8044.17   8060.16  166486621\n",
        "\n",
        "[247 rows x 6 columns]"
       ]
      }
     ],
     "prompt_number": 54
    },
    {
     "cell_type": "code",
     "collapsed": false,
     "input": [
      "stocks_data[\"change_amount\"] = stocks_data[\"Close\"] - stocks_data[\"Open\"]"
     ],
     "language": "python",
     "metadata": {},
     "outputs": [],
     "prompt_number": 56
    },
    {
     "cell_type": "code",
     "collapsed": false,
     "input": [
      "stocks_data[\"change_percentage\"] = stocks_data[\"change_amount\"]/stocks_data[\"Close\"]"
     ],
     "language": "python",
     "metadata": {},
     "outputs": [],
     "prompt_number": 57
    },
    {
     "cell_type": "code",
     "collapsed": false,
     "input": [
      "stocks_data"
     ],
     "language": "python",
     "metadata": {},
     "outputs": [
      {
       "metadata": {},
       "output_type": "pyout",
       "prompt_number": 58,
       "text": [
        "         \ufeffDate      Open      High       Low     Close     Volume  \\\n",
        "0    30-Oct-14  10081.96  10081.96   9925.37  10034.92  186497187   \n",
        "1    29-Oct-14  10163.66  10216.57  10076.05  10081.96  213220741   \n",
        "2    28-Oct-14  10194.42  10216.24  10119.59  10163.66  202667668   \n",
        "3    27-Oct-14  10313.96  10358.89  10194.28  10194.42  210253538   \n",
        "4    26-Oct-14  10165.33  10313.96  10130.29  10313.96  229551618   \n",
        "5    23-Oct-14  10206.19  10206.19  10041.15  10165.33  215297268   \n",
        "6    22-Oct-14  10136.46  10267.50  10104.22  10206.19  279105759   \n",
        "7    21-Oct-14   9882.36  10147.21   9882.36  10136.46  283702399   \n",
        "8    20-Oct-14   9775.32   9887.18   9758.33   9882.36  241072383   \n",
        "9    19-Oct-14   9547.54   9942.61   9547.54   9775.32  252404092   \n",
        "10   16-Oct-14   9903.00   9903.00   9340.62   9547.54  311180384   \n",
        "11   15-Oct-14  10177.11  10177.11   9893.41   9903.00  221370166   \n",
        "..         ...       ...       ...       ...       ...        ...   \n",
        "235  18-Nov-13   8383.77   8425.49   8374.69   8407.88  181627921   \n",
        "236  17-Nov-13   8317.16   8411.29   8314.25   8383.77  191781010   \n",
        "237  14-Nov-13   8297.79   8319.34   8288.98   8317.16  156160943   \n",
        "238  13-Nov-13   8329.48   8351.14   8284.43   8297.79  165991749   \n",
        "239  12-Nov-13   8271.14   8350.51   8263.84   8329.48  220327240   \n",
        "240  11-Nov-13   8248.16   8274.25   8226.73   8271.14  155452917   \n",
        "241  10-Nov-13   8262.79   8275.06   8233.70   8248.16  190048145   \n",
        "242   7-Nov-13   8188.46   8262.88   8185.48   8262.79  206800996   \n",
        "243   6-Nov-13   8170.73   8192.09   8160.41   8188.46  141147648   \n",
        "244   5-Nov-13   8073.97   8171.40   8062.68   8170.73  187029578   \n",
        "245   4-Nov-13   8060.16   8077.76   8053.38   8073.97  126971414   \n",
        "246   3-Nov-13   8044.47   8098.81   8044.17   8060.16  166486621   \n",
        "\n",
        "     change_amount  change_percentage  \n",
        "0           -47.04          -0.004688  \n",
        "1           -81.70          -0.008104  \n",
        "2           -30.76          -0.003026  \n",
        "3          -119.54          -0.011726  \n",
        "4           148.63           0.014411  \n",
        "5           -40.86          -0.004020  \n",
        "6            69.73           0.006832  \n",
        "7           254.10           0.025068  \n",
        "8           107.04           0.010831  \n",
        "9           227.78           0.023302  \n",
        "10         -355.46          -0.037231  \n",
        "11         -274.11          -0.027679  \n",
        "..             ...                ...  \n",
        "235          24.11           0.002868  \n",
        "236          66.61           0.007945  \n",
        "237          19.37           0.002329  \n",
        "238         -31.69          -0.003819  \n",
        "239          58.34           0.007004  \n",
        "240          22.98           0.002778  \n",
        "241         -14.63          -0.001774  \n",
        "242          74.33           0.008996  \n",
        "243          17.73           0.002165  \n",
        "244          96.76           0.011842  \n",
        "245          13.81           0.001710  \n",
        "246          15.69           0.001947  \n",
        "\n",
        "[247 rows x 8 columns]"
       ]
      }
     ],
     "prompt_number": 58
    }
   ],
   "metadata": {}
  }
 ]
}